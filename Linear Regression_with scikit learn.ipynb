{
 "cells": [
  {
   "cell_type": "code",
   "execution_count": 41,
   "id": "2db61afe",
   "metadata": {},
   "outputs": [],
   "source": [
    "import pandas as pd\n",
    "import numpy as np\n",
    "import matplotlib.pyplot as plt\n",
    "import seaborn as sns\n",
    "from sklearn import metrics"
   ]
  },
  {
   "cell_type": "code",
   "execution_count": 42,
   "id": "35f583bc",
   "metadata": {},
   "outputs": [],
   "source": [
    "df=pd.read_csv('D:\\Python Projects\\dataset.csv')"
   ]
  },
  {
   "cell_type": "code",
   "execution_count": 43,
   "id": "063f096f",
   "metadata": {},
   "outputs": [
    {
     "data": {
      "text/html": [
       "<div>\n",
       "<style scoped>\n",
       "    .dataframe tbody tr th:only-of-type {\n",
       "        vertical-align: middle;\n",
       "    }\n",
       "\n",
       "    .dataframe tbody tr th {\n",
       "        vertical-align: top;\n",
       "    }\n",
       "\n",
       "    .dataframe thead th {\n",
       "        text-align: right;\n",
       "    }\n",
       "</style>\n",
       "<table border=\"1\" class=\"dataframe\">\n",
       "  <thead>\n",
       "    <tr style=\"text-align: right;\">\n",
       "      <th></th>\n",
       "      <th>area</th>\n",
       "      <th>price</th>\n",
       "    </tr>\n",
       "  </thead>\n",
       "  <tbody>\n",
       "    <tr>\n",
       "      <th>0</th>\n",
       "      <td>1500</td>\n",
       "      <td>158900</td>\n",
       "    </tr>\n",
       "    <tr>\n",
       "      <th>1</th>\n",
       "      <td>1700</td>\n",
       "      <td>169850</td>\n",
       "    </tr>\n",
       "    <tr>\n",
       "      <th>2</th>\n",
       "      <td>1750</td>\n",
       "      <td>178950</td>\n",
       "    </tr>\n",
       "    <tr>\n",
       "      <th>3</th>\n",
       "      <td>1800</td>\n",
       "      <td>178650</td>\n",
       "    </tr>\n",
       "    <tr>\n",
       "      <th>4</th>\n",
       "      <td>1820</td>\n",
       "      <td>180000</td>\n",
       "    </tr>\n",
       "  </tbody>\n",
       "</table>\n",
       "</div>"
      ],
      "text/plain": [
       "   area   price\n",
       "0  1500  158900\n",
       "1  1700  169850\n",
       "2  1750  178950\n",
       "3  1800  178650\n",
       "4  1820  180000"
      ]
     },
     "execution_count": 43,
     "metadata": {},
     "output_type": "execute_result"
    }
   ],
   "source": [
    "df.head()"
   ]
  },
  {
   "cell_type": "code",
   "execution_count": 44,
   "id": "c135d178",
   "metadata": {},
   "outputs": [
    {
     "data": {
      "text/plain": [
       "(45, 2)"
      ]
     },
     "execution_count": 44,
     "metadata": {},
     "output_type": "execute_result"
    }
   ],
   "source": [
    "df.shape"
   ]
  },
  {
   "cell_type": "code",
   "execution_count": 45,
   "id": "f9919bda",
   "metadata": {},
   "outputs": [
    {
     "data": {
      "text/plain": [
       "<bound method DataFrame.info of     area   price\n",
       "0   1500  158900\n",
       "1   1700  169850\n",
       "2   1750  178950\n",
       "3   1800  178650\n",
       "4   1820  180000\n",
       "5   1920  186850\n",
       "6   1450  150000\n",
       "7   1590  149870\n",
       "8   1596  158620\n",
       "9   1623  159990\n",
       "10  1878  189680\n",
       "11  1658  168980\n",
       "12  1720  170000\n",
       "13  1985  190000\n",
       "14  2000  198510\n",
       "15  2100  200000\n",
       "16  2050  193580\n",
       "17  1990  200000\n",
       "18  1965  195180\n",
       "19  1970  198680\n",
       "20  2120  201650\n",
       "21  2200  220000\n",
       "22  2156  216510\n",
       "23  1269  138550\n",
       "24  1489  149850\n",
       "25  1785  179850\n",
       "26  1965  196280\n",
       "27  1948  195680\n",
       "28  2008  200000\n",
       "29  2079  205880\n",
       "30  2116  210000\n",
       "31  2230  220000\n",
       "32  2200  219850\n",
       "33  2220  222000\n",
       "34  2365  235680\n",
       "35  2325  239580\n",
       "36  2396  240000\n",
       "37  2489  248850\n",
       "38  2420  245590\n",
       "39  2398  240000\n",
       "40  2350  236840\n",
       "41  2375  230000\n",
       "42  2236  226260\n",
       "43  2347  220590\n",
       "44  2459  239840>"
      ]
     },
     "execution_count": 45,
     "metadata": {},
     "output_type": "execute_result"
    }
   ],
   "source": [
    "df.info"
   ]
  },
  {
   "cell_type": "code",
   "execution_count": 46,
   "id": "33200516",
   "metadata": {},
   "outputs": [
    {
     "data": {
      "image/png": "[encoded data removed]",
      "text/plain": [
       "<Figure size 432x288 with 2 Axes>"
      ]
     },
     "metadata": {
      "needs_background": "light"
     },
     "output_type": "display_data"
    }
   ],
   "source": [
    "plt.figure()\n",
    "sns.heatmap(df.corr(),cmap='BuPu', annot=True)\n",
    "plt.show()"
   ]
  },
  {
   "cell_type": "code",
   "execution_count": 47,
   "id": "27ab09b5",
   "metadata": {},
   "outputs": [
    {
     "data": {
      "text/plain": [
       "Index(['area', ' price'], dtype='object')"
      ]
     },
     "execution_count": 47,
     "metadata": {},
     "output_type": "execute_result"
    }
   ],
   "source": [
    "df.columns"
   ]
  },
  {
   "cell_type": "code",
   "execution_count": 48,
   "id": "67763bed",
   "metadata": {},
   "outputs": [],
   "source": [
    "area = df['area']\n",
    "price = df[' price']\n",
    "x = np.array(area).reshape(-1,1)\n",
    "y = np.array(price)"
   ]
  },
  {
   "cell_type": "code",
   "execution_count": 49,
   "id": "d68227d1",
   "metadata": {},
   "outputs": [
    {
     "data": {
      "text/plain": [
       "LinearRegression()"
      ]
     },
     "execution_count": 49,
     "metadata": {},
     "output_type": "execute_result"
    }
   ],
   "source": [
    "from sklearn.model_selection import train_test_split\n",
    "X_train, X_test, y_train, y_test = train_test_split(x,y,test_size=0.2,random_state = 0)\n",
    "y_train = y_train.reshape(-1,1)\n",
    "y_test = y_test.reshape(-1,1)\n",
    "#Fit the model over the training dataset\n",
    "from sklearn.linear_model import LinearRegression\n",
    "model = LinearRegression()\n",
    "model.fit(X_train,y_train)"
   ]
  },
  {
   "cell_type": "code",
   "execution_count": 50,
   "id": "49a047bf",
   "metadata": {},
   "outputs": [
    {
     "name": "stdout",
     "output_type": "stream",
     "text": [
      "[10650.71832247]\n",
      "[[93.94563961]]\n",
      "11099061.67487415\n",
      "3331.5254276193286\n"
     ]
    }
   ],
   "source": [
    "#Calculate intercept and coefficient\n",
    "print(model.intercept_)\n",
    "print(model.coef_)\n",
    "pred=model.predict(X_test)\n",
    "predictions = pred.reshape(-1,1)\n",
    "#Calculate root mean squared error to evaluate model performance\n",
    "from sklearn.metrics import mean_squared_error\n",
    "\n",
    "print(mean_squared_error(y_test, predictions))\n",
    "print(np.sqrt(mean_squared_error(y_test, predictions)))"
   ]
  },
  {
   "cell_type": "code",
   "execution_count": 35,
   "id": "086b3089",
   "metadata": {},
   "outputs": [
    {
     "data": {
      "image/png": "[encoded data removed]",
      "text/plain": [
       "<Figure size 432x288 with 1 Axes>"
      ]
     },
     "metadata": {
      "needs_background": "light"
     },
     "output_type": "display_data"
    }
   ],
   "source": [
    "plt.scatter(X_test, y_test, color= 'darkgreen', label = 'data')\n",
    "plt.plot(X_test, predictions, color='red', label= ' Predicted Regression line')\n",
    "plt.xlabel('Living Space (sqft)')\n",
    "plt.ylabel('price')\n",
    "plt.legend()\n",
    "plt.gca().spines['right'].set_visible(False)\n",
    "plt.gca().spines['right'].set_visible(False)"
   ]
  },
  {
   "cell_type": "code",
   "execution_count": 38,
   "id": "273c91e1",
   "metadata": {},
   "outputs": [
    {
     "data": {
      "text/plain": [
       "188771.65102303"
      ]
     },
     "execution_count": 38,
     "metadata": {},
     "output_type": "execute_result"
    }
   ],
   "source": [
    "1896*93.94563961+10650.71832247"
   ]
  },
  {
   "cell_type": "code",
   "execution_count": 54,
   "id": "d5d2c544",
   "metadata": {},
   "outputs": [],
   "source": [
    "d=pd.read_csv('D:\\\\Python Projects\\\\areas.csv')"
   ]
  },
  {
   "cell_type": "code",
   "execution_count": 56,
   "id": "c67e0285",
   "metadata": {},
   "outputs": [
    {
     "data": {
      "text/html": [
       "<div>\n",
       "<style scoped>\n",
       "    .dataframe tbody tr th:only-of-type {\n",
       "        vertical-align: middle;\n",
       "    }\n",
       "\n",
       "    .dataframe tbody tr th {\n",
       "        vertical-align: top;\n",
       "    }\n",
       "\n",
       "    .dataframe thead th {\n",
       "        text-align: right;\n",
       "    }\n",
       "</style>\n",
       "<table border=\"1\" class=\"dataframe\">\n",
       "  <thead>\n",
       "    <tr style=\"text-align: right;\">\n",
       "      <th></th>\n",
       "      <th>Areas</th>\n",
       "    </tr>\n",
       "  </thead>\n",
       "  <tbody>\n",
       "    <tr>\n",
       "      <th>0</th>\n",
       "      <td>1000</td>\n",
       "    </tr>\n",
       "    <tr>\n",
       "      <th>1</th>\n",
       "      <td>5000</td>\n",
       "    </tr>\n",
       "  </tbody>\n",
       "</table>\n",
       "</div>"
      ],
      "text/plain": [
       "   Areas\n",
       "0   1000\n",
       "1   5000"
      ]
     },
     "execution_count": 56,
     "metadata": {},
     "output_type": "execute_result"
    }
   ],
   "source": [
    "d.head(2)"
   ]
  },
  {
   "cell_type": "code",
   "execution_count": 59,
   "id": "187d5aa1",
   "metadata": {},
   "outputs": [],
   "source": [
    "pr=model.predict(d)"
   ]
  },
  {
   "cell_type": "code",
   "execution_count": 61,
   "id": "9bedbe8d",
   "metadata": {},
   "outputs": [],
   "source": [
    "d[\"price\"]=pr"
   ]
  },
  {
   "cell_type": "code",
   "execution_count": 62,
   "id": "1c4fa13e",
   "metadata": {},
   "outputs": [
    {
     "data": {
      "text/html": [
       "<div>\n",
       "<style scoped>\n",
       "    .dataframe tbody tr th:only-of-type {\n",
       "        vertical-align: middle;\n",
       "    }\n",
       "\n",
       "    .dataframe tbody tr th {\n",
       "        vertical-align: top;\n",
       "    }\n",
       "\n",
       "    .dataframe thead th {\n",
       "        text-align: right;\n",
       "    }\n",
       "</style>\n",
       "<table border=\"1\" class=\"dataframe\">\n",
       "  <thead>\n",
       "    <tr style=\"text-align: right;\">\n",
       "      <th></th>\n",
       "      <th>Areas</th>\n",
       "      <th>price</th>\n",
       "    </tr>\n",
       "  </thead>\n",
       "  <tbody>\n",
       "    <tr>\n",
       "      <th>0</th>\n",
       "      <td>1000</td>\n",
       "      <td>104596.357934</td>\n",
       "    </tr>\n",
       "    <tr>\n",
       "      <th>1</th>\n",
       "      <td>5000</td>\n",
       "      <td>480378.916380</td>\n",
       "    </tr>\n",
       "    <tr>\n",
       "      <th>2</th>\n",
       "      <td>6999</td>\n",
       "      <td>668176.249963</td>\n",
       "    </tr>\n",
       "    <tr>\n",
       "      <th>3</th>\n",
       "      <td>6582</td>\n",
       "      <td>629000.918245</td>\n",
       "    </tr>\n",
       "    <tr>\n",
       "      <th>4</th>\n",
       "      <td>2569</td>\n",
       "      <td>251997.066484</td>\n",
       "    </tr>\n",
       "    <tr>\n",
       "      <th>5</th>\n",
       "      <td>2658</td>\n",
       "      <td>260358.228410</td>\n",
       "    </tr>\n",
       "    <tr>\n",
       "      <th>6</th>\n",
       "      <td>2365</td>\n",
       "      <td>232832.156004</td>\n",
       "    </tr>\n",
       "    <tr>\n",
       "      <th>7</th>\n",
       "      <td>2563</td>\n",
       "      <td>251433.392647</td>\n",
       "    </tr>\n",
       "    <tr>\n",
       "      <th>8</th>\n",
       "      <td>2354</td>\n",
       "      <td>231798.753968</td>\n",
       "    </tr>\n",
       "    <tr>\n",
       "      <th>9</th>\n",
       "      <td>4545</td>\n",
       "      <td>437633.650357</td>\n",
       "    </tr>\n",
       "    <tr>\n",
       "      <th>10</th>\n",
       "      <td>5656</td>\n",
       "      <td>542007.255965</td>\n",
       "    </tr>\n",
       "    <tr>\n",
       "      <th>11</th>\n",
       "      <td>9898</td>\n",
       "      <td>940524.659197</td>\n",
       "    </tr>\n",
       "  </tbody>\n",
       "</table>\n",
       "</div>"
      ],
      "text/plain": [
       "    Areas          price\n",
       "0    1000  104596.357934\n",
       "1    5000  480378.916380\n",
       "2    6999  668176.249963\n",
       "3    6582  629000.918245\n",
       "4    2569  251997.066484\n",
       "5    2658  260358.228410\n",
       "6    2365  232832.156004\n",
       "7    2563  251433.392647\n",
       "8    2354  231798.753968\n",
       "9    4545  437633.650357\n",
       "10   5656  542007.255965\n",
       "11   9898  940524.659197"
      ]
     },
     "execution_count": 62,
     "metadata": {},
     "output_type": "execute_result"
    }
   ],
   "source": [
    "d"
   ]
  },
  {
   "cell_type": "code",
   "execution_count": 64,
   "id": "fac5dc56",
   "metadata": {},
   "outputs": [],
   "source": [
    "d.to_csv('D:\\\\Python Projects\\\\areas.csv')"
   ]
  },
  {
   "cell_type": "code",
   "execution_count": null,
   "id": "76e64bd3",
   "metadata": {},
   "outputs": [],
   "source": []
  }
 ],
 "metadata": {
  "kernelspec": {
   "display_name": "Python 3",
   "language": "python",
   "name": "python3"
  },
  "language_info": {
   "codemirror_mode": {
    "name": "ipython",
    "version": 3
   },
   "file_extension": ".py",
   "mimetype": "text/x-python",
   "name": "python",
   "nbconvert_exporter": "python",
   "pygments_lexer": "ipython3",
   "version": "3.8.8"
  }
 },
 "nbformat": 4,
 "nbformat_minor": 5
}
