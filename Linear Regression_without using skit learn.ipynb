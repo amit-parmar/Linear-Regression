{
 "cells": [
  {
   "cell_type": "code",
   "execution_count": 2,
   "id": "44f154b0",
   "metadata": {},
   "outputs": [],
   "source": [
    "import numpy as np\n",
    "import matplotlib.pyplot as plt"
   ]
  },
  {
   "cell_type": "code",
   "execution_count": 3,
   "id": "177d0759",
   "metadata": {},
   "outputs": [],
   "source": [
    "data=np.loadtxt('D:\\Python Projects\\dataset.txt',delimiter=',')"
   ]
  },
  {
   "cell_type": "code",
   "execution_count": 4,
   "id": "ccc40d27",
   "metadata": {},
   "outputs": [],
   "source": [
    "X = data[:, 0]\n",
    "Y = data[:, 1].reshape(X.size, 1)\n",
    "X = np.vstack((np.ones((X.size, )), X)).T"
   ]
  },
  {
   "cell_type": "code",
   "execution_count": 5,
   "id": "dd5e5452",
   "metadata": {},
   "outputs": [
    {
     "name": "stdout",
     "output_type": "stream",
     "text": [
      "(45, 2)\n",
      "(45, 1)\n"
     ]
    }
   ],
   "source": [
    "print(X.shape)\n",
    "print(Y.shape)"
   ]
  },
  {
   "cell_type": "code",
   "execution_count": 6,
   "id": "eb05494d",
   "metadata": {},
   "outputs": [
    {
     "data": {
      "text/plain": [
       "array([1500., 1700., 1750., 1800., 1820., 1920., 1450., 1590., 1596.,\n",
       "       1623., 1878., 1658., 1720., 1985., 2000., 2100., 2050., 1990.,\n",
       "       1965., 1970., 2120., 2200., 2156., 1269., 1489., 1785., 1965.,\n",
       "       1948., 2008., 2079., 2116., 2230., 2200., 2220., 2365., 2325.,\n",
       "       2396., 2489., 2420., 2398., 2350., 2375., 2236., 2347., 2459.])"
      ]
     },
     "execution_count": 6,
     "metadata": {},
     "output_type": "execute_result"
    }
   ],
   "source": [
    "X[:,1]"
   ]
  },
  {
   "cell_type": "code",
   "execution_count": 7,
   "id": "53361228",
   "metadata": {},
   "outputs": [
    {
     "data": {
      "text/plain": [
       "<matplotlib.collections.PathCollection at 0x1bc428e2df0>"
      ]
     },
     "execution_count": 7,
     "metadata": {},
     "output_type": "execute_result"
    },
    {
     "data": {
      "image/png": "[encoded data removed]",
      "text/plain": [
       "<Figure size 432x288 with 1 Axes>"
      ]
     },
     "metadata": {
      "needs_background": "light"
     },
     "output_type": "display_data"
    }
   ],
   "source": [
    "plt.scatter(X[:,1],Y)"
   ]
  },
  {
   "cell_type": "code",
   "execution_count": 30,
   "id": "30fcbdc6",
   "metadata": {},
   "outputs": [],
   "source": [
    "def my_lr(X, Y, learning_rate, iteration):\n",
    "    m=Y.size\n",
    "    theta=np.zeros((2, 1))\n",
    "    cost_list=[]\n",
    "    for i in range(iteration):\n",
    "        y_pred=np.dot(X, theta)\n",
    "        cost=(1/(2*m))*np.sum(np.square(y_pred - Y))\n",
    "        \n",
    "        dr_theta=(1/m)*np.dot(X.T, y_pred - Y)\n",
    "        theta = theta - learning_rate * dr_theta\n",
    "        \n",
    "        cost_list.append(cost)\n",
    "       \n",
    "    predictions = y_pred.reshape(-1,1)\n",
    "    print(y_pred)\n",
    "    plt.scatter(X[:,1],Y)\n",
    "    plt.plot(X[:,1], y_pred, color='red', label= ' Predicted Regression line')\n",
    "    return theta, cost_list\n"
   ]
  },
  {
   "cell_type": "code",
   "execution_count": 31,
   "id": "a9cfd75e",
   "metadata": {},
   "outputs": [
    {
     "name": "stdout",
     "output_type": "stream",
     "text": [
      "[[149087.59220083]\n",
      " [168965.93121537]\n",
      " [173935.51596901]\n",
      " [178905.10072264]\n",
      " [180892.9346241 ]\n",
      " [190832.10413137]\n",
      " [144118.00744719]\n",
      " [158032.84475737]\n",
      " [158629.19492781]\n",
      " [161312.77069477]\n",
      " [186657.65293831]\n",
      " [164791.48002232]\n",
      " [170953.76511682]\n",
      " [197292.5643111 ]\n",
      " [198783.43973719]\n",
      " [208722.60924446]\n",
      " [203753.02449082]\n",
      " [197789.52278646]\n",
      " [195304.73040964]\n",
      " [195801.68888501]\n",
      " [210710.44314591]\n",
      " [218661.77875173]\n",
      " [214288.54416853]\n",
      " [126128.11063903]\n",
      " [147994.28355503]\n",
      " [177414.22529655]\n",
      " [195304.73040964]\n",
      " [193615.07159341]\n",
      " [199578.57329777]\n",
      " [206635.38364793]\n",
      " [210312.87636562]\n",
      " [221643.52960391]\n",
      " [218661.77875173]\n",
      " [220649.61265319]\n",
      " [235061.40843873]\n",
      " [231085.74063582]\n",
      " [238142.55098599]\n",
      " [247385.97862775]\n",
      " [240527.95166773]\n",
      " [238341.33437613]\n",
      " [233570.53301264]\n",
      " [236055.32538946]\n",
      " [222239.87977435]\n",
      " [233272.35792742]\n",
      " [244404.22777557]]\n",
      "coeficient: [[4.96021510e-02]\n",
      " [9.93916951e+01]]\n"
     ]
    },
    {
     "data": {
      "image/png": "[encoded data removed]",
      "text/plain": [
       "<Figure size 432x288 with 1 Axes>"
      ]
     },
     "metadata": {
      "needs_background": "light"
     },
     "output_type": "display_data"
    }
   ],
   "source": [
    "learning_rate=0.00000005\n",
    "iteration=100\n",
    "theta, cost_list=my_lr(X, Y, learning_rate=learning_rate, iteration=iteration)\n",
    "print(\"coeficient:\", theta)"
   ]
  },
  {
   "cell_type": "code",
   "execution_count": 10,
   "id": "4f0695b5",
   "metadata": {},
   "outputs": [
    {
     "name": "stdout",
     "output_type": "stream",
     "text": [
      "Our model predicts the price of house with 1547 sq. ft. area as : $ 153759.0\n",
      "Our model predicts the price of house with 1896 sq. ft. area as : $ 188446.7\n",
      "Our model predicts the price of house with 1934 sq. ft. area as : $ 192223.59\n",
      "Our model predicts the price of house with 2800 sq. ft. area as : $ 278296.8\n",
      "Our model predicts the price of house with 3400 sq. ft. area as : $ 337931.81\n",
      "Our model predicts the price of house with 5000 sq. ft. area as : $ 496958.52\n"
     ]
    }
   ],
   "source": [
    "new_houses = np.array([[1, 1547], [1, 1896], [1, 1934], [1,\n",
    "2800], [1, 3400], [1, 5000]])\n",
    "for house in new_houses :\n",
    "    print(\"Our model predicts the price of house with\", house[1], \"sq. ft. area as : $\", round(np.dot(house, theta)[0],2))"
   ]
  },
  {
   "cell_type": "code",
   "execution_count": 12,
   "id": "264762ed",
   "metadata": {},
   "outputs": [],
   "source": [
    "d=np.loadtxt('D:\\Python Projects\\Test_data.txt',delimiter=',')"
   ]
  },
  {
   "cell_type": "code",
   "execution_count": 13,
   "id": "7ac15132",
   "metadata": {},
   "outputs": [],
   "source": [
    "X_test = d[:, 0]\n",
    "Y_test = d[:, 1].reshape(X_test.size, 1)\n",
    "X_test = np.vstack((np.ones((X_test.size, )), X_test)).T"
   ]
  },
  {
   "cell_type": "code",
   "execution_count": 14,
   "id": "e36346ec",
   "metadata": {},
   "outputs": [
    {
     "name": "stdout",
     "output_type": "stream",
     "text": [
      "(10, 2)\n",
      "(10, 1)\n"
     ]
    }
   ],
   "source": [
    "print(X_test.shape)\n",
    "print(Y_test.shape)"
   ]
  },
  {
   "cell_type": "code",
   "execution_count": 21,
   "id": "b2483010",
   "metadata": {},
   "outputs": [
    {
     "ename": "NameError",
     "evalue": "name 'y_pred' is not defined",
     "output_type": "error",
     "traceback": [
      "\u001b[1;31m---------------------------------------------------------------------------\u001b[0m",
      "\u001b[1;31mNameError\u001b[0m                                 Traceback (most recent call last)",
      "\u001b[1;32m<ipython-input-21-85125064376d>\u001b[0m in \u001b[0;36m<module>\u001b[1;34m\u001b[0m\n\u001b[0;32m      1\u001b[0m \u001b[0mplt\u001b[0m\u001b[1;33m.\u001b[0m\u001b[0mscatter\u001b[0m\u001b[1;33m(\u001b[0m\u001b[0mX_test\u001b[0m\u001b[1;33m[\u001b[0m\u001b[1;33m:\u001b[0m\u001b[1;33m,\u001b[0m\u001b[1;36m1\u001b[0m\u001b[1;33m]\u001b[0m\u001b[1;33m,\u001b[0m \u001b[0mY_test\u001b[0m\u001b[1;33m,\u001b[0m \u001b[0mcolor\u001b[0m\u001b[1;33m=\u001b[0m \u001b[1;34m'red'\u001b[0m\u001b[1;33m,\u001b[0m \u001b[0mlabel\u001b[0m \u001b[1;33m=\u001b[0m \u001b[1;34m'data'\u001b[0m\u001b[1;33m)\u001b[0m\u001b[1;33m\u001b[0m\u001b[1;33m\u001b[0m\u001b[0m\n\u001b[1;32m----> 2\u001b[1;33m \u001b[0mplt\u001b[0m\u001b[1;33m.\u001b[0m\u001b[0mplot\u001b[0m\u001b[1;33m(\u001b[0m\u001b[0mX_test\u001b[0m\u001b[1;33m[\u001b[0m\u001b[1;33m:\u001b[0m\u001b[1;33m,\u001b[0m\u001b[1;36m1\u001b[0m\u001b[1;33m]\u001b[0m\u001b[1;33m,\u001b[0m \u001b[0my_pred\u001b[0m\u001b[1;33m,\u001b[0m \u001b[0mcolor\u001b[0m\u001b[1;33m=\u001b[0m\u001b[1;34m'blue'\u001b[0m\u001b[1;33m,\u001b[0m \u001b[0mlabel\u001b[0m\u001b[1;33m=\u001b[0m \u001b[1;34m' Predicted Regression line'\u001b[0m\u001b[1;33m)\u001b[0m\u001b[1;33m\u001b[0m\u001b[1;33m\u001b[0m\u001b[0m\n\u001b[0m",
      "\u001b[1;31mNameError\u001b[0m: name 'y_pred' is not defined"
     ]
    },
    {
     "data": {
      "image/png": "[encoded data removed]",
      "text/plain": [
       "<Figure size 432x288 with 1 Axes>"
      ]
     },
     "metadata": {
      "needs_background": "light"
     },
     "output_type": "display_data"
    }
   ],
   "source": [
    "plt.scatter(X_test[:,1], Y_test, color= 'red', label = 'data')"
   ]
  },
  {
   "cell_type": "code",
   "execution_count": 22,
   "id": "f348619f",
   "metadata": {},
   "outputs": [
    {
     "ename": "TypeError",
     "evalue": "my_lr() missing 2 required positional arguments: 'learning_rate' and 'iteration'",
     "output_type": "error",
     "traceback": [
      "\u001b[1;31m---------------------------------------------------------------------------\u001b[0m",
      "\u001b[1;31mTypeError\u001b[0m                                 Traceback (most recent call last)",
      "\u001b[1;32m<ipython-input-22-6f507f1ec275>\u001b[0m in \u001b[0;36m<module>\u001b[1;34m\u001b[0m\n\u001b[1;32m----> 1\u001b[1;33m \u001b[0mtheta\u001b[0m\u001b[1;33m,\u001b[0m \u001b[0mcost_list\u001b[0m\u001b[1;33m=\u001b[0m\u001b[0mmy_lr\u001b[0m\u001b[1;33m(\u001b[0m\u001b[0mX_test\u001b[0m\u001b[1;33m,\u001b[0m \u001b[0mY_test\u001b[0m\u001b[1;33m)\u001b[0m\u001b[1;33m\u001b[0m\u001b[1;33m\u001b[0m\u001b[0m\n\u001b[0m",
      "\u001b[1;31mTypeError\u001b[0m: my_lr() missing 2 required positional arguments: 'learning_rate' and 'iteration'"
     ]
    }
   ],
   "source": [
    "theta, cost_list=my_lr(X_test, Y_test)"
   ]
  },
  {
   "cell_type": "code",
   "execution_count": 91,
   "id": "f3b5c4d8",
   "metadata": {},
   "outputs": [
    {
     "data": {
      "image/png": "[encoded data removed]",
      "text/plain": [
       "<Figure size 432x288 with 1 Axes>"
      ]
     },
     "metadata": {
      "needs_background": "light"
     },
     "output_type": "display_data"
    }
   ],
   "source": [
    "plt.scatter(X[:,1], Y, color= 'darkgreen', label = 'data')\n",
    "plt.plot(X[:,1], Y, color='red', label= ' Predicted Regression line')\n",
    "plt.xlabel('area')\n",
    "plt.ylabel('price')\n",
    "plt.legend()\n",
    "plt.gca().spines['right'].set_visible(False)\n",
    "plt.gca().spines['right'].set_visible(False)"
   ]
  },
  {
   "cell_type": "code",
   "execution_count": 46,
   "id": "4984a9cb",
   "metadata": {},
   "outputs": [
    {
     "data": {
      "image/png": "[encoded data removed]",
      "text/plain": [
       "<Figure size 432x288 with 1 Axes>"
      ]
     },
     "metadata": {
      "needs_background": "light"
     },
     "output_type": "display_data"
    }
   ],
   "source": [
    "rng = np.arange(0, iteration)\n",
    "plt.plot(cost_list, rng)\n",
    "plt.show()"
   ]
  },
  {
   "cell_type": "code",
   "execution_count": null,
   "id": "fd53052f",
   "metadata": {},
   "outputs": [],
   "source": []
  }
 ],
 "metadata": {
  "kernelspec": {
   "display_name": "Python 3",
   "language": "python",
   "name": "python3"
  },
  "language_info": {
   "codemirror_mode": {
    "name": "ipython",
    "version": 3
   },
   "file_extension": ".py",
   "mimetype": "text/x-python",
   "name": "python",
   "nbconvert_exporter": "python",
   "pygments_lexer": "ipython3",
   "version": "3.8.8"
  }
 },
 "nbformat": 4,
 "nbformat_minor": 5
}
